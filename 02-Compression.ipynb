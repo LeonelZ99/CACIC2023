{
 "cells": [
  {
   "cell_type": "code",
   "execution_count": 22,
   "id": "04a13ed0-4273-4275-9d9f-a7c4351526de",
   "metadata": {},
   "outputs": [],
   "source": [
    "import os\n",
    "import math\n",
    "import time\n",
    "import pandas as pd\n",
    "import numpy as np\n",
    "import pyterrier as pt\n",
    "import matplotlib.pyplot as plt"
   ]
  },
  {
   "cell_type": "code",
   "execution_count": 23,
   "id": "7ec8d7a3-688e-4205-8400-61d596a07cbc",
   "metadata": {},
   "outputs": [],
   "source": [
    "# Definimos algunas funciones"
   ]
  },
  {
   "cell_type": "code",
   "execution_count": 24,
   "id": "0db3ed7f-df35-4c93-8553-cea18b09e564",
   "metadata": {},
   "outputs": [],
   "source": [
    "log2 = lambda x: log(x, 2)"
   ]
  },
  {
   "cell_type": "code",
   "execution_count": 25,
   "id": "6180f7c2-e16c-4349-8d63-f578077b7570",
   "metadata": {},
   "outputs": [],
   "source": [
    "def Unary(x):\n",
    "    return (x-1)*'0'+'1'"
   ]
  },
  {
   "cell_type": "code",
   "execution_count": 26,
   "id": "81fe8d00-d4ac-4cae-bfaf-87bc96fb8ab4",
   "metadata": {},
   "outputs": [],
   "source": [
    "def Binary(x, l = 1):\n",
    "    s = '{0:0%db}' % l\n",
    "    return s.format(x)"
   ]
  },
  {
   "cell_type": "code",
   "execution_count": 27,
   "id": "3c201c96-ad21-4431-9ebb-aab82e624a5f",
   "metadata": {},
   "outputs": [],
   "source": [
    "def Elias_Gamma_Coding(x):\n",
    "    if(x == 0):\n",
    "        return '0'\n",
    "    #\n",
    "    n = 1 + int(math.log2(x))\n",
    "    b = x - 2**(int(math.log2(x)))\n",
    "    l = int(math.log2(x))\n",
    "    return Unary(n) + Binary(b, l)"
   ]
  },
  {
   "cell_type": "code",
   "execution_count": 28,
   "id": "03deb96d-fe54-4276-8a34-f8cc12c37ab1",
   "metadata": {},
   "outputs": [],
   "source": [
    "def Elias_Gamma_Decoding(x):\n",
    "    x = list(x)\n",
    "    K = 0\n",
    "    while True:\n",
    "        if not x[K] == '0':\n",
    "            break\n",
    "        K = K + 1\n",
    "    # Se leen K bits más desde '1'\n",
    "    x = x[K:2*K+1]\n",
    "    n = 0\n",
    "    x.reverse()\n",
    "    # Se convierte de binario a entero\n",
    "    for i in range(len(x)):\n",
    "        if x[i] == '1':\n",
    "            n = n+math.pow(2, i)\n",
    "    return int(n)"
   ]
  },
  {
   "cell_type": "code",
   "execution_count": 29,
   "id": "a18d6928-baf8-4b82-b95c-f70dfeeb1541",
   "metadata": {},
   "outputs": [],
   "source": [
    "def Variable_Byte_Coding(n):\n",
    "    finalBinary = ''\n",
    "\n",
    "    if n < 127:     # Alcanza solo 1 byte\n",
    "        binary = bin(n)[2:]\n",
    "        # Si la longitud del binario es < 7, se agregan 0s a la izquierda.\n",
    "        if len(binary) < 7:\n",
    "            binary = '1' + '0' * (7 - len(binary)) + binary\n",
    "        else:\n",
    "            binary = '1' + binary\n",
    "        #\n",
    "        finalBinary = binary\n",
    "    else:\n",
    "        length = len(bin(n)[2:])\n",
    "        # Convertir a binario\n",
    "        binary = bin(n)[2:]\n",
    "        # Se obtienen los 7 dígitos del binario y se le agrega un \"1\"\n",
    "        lowerBits = int('1' + binary[length - 7:])\n",
    "        # Se obtienen los bits \"altos\"\n",
    "        higherBits = ''\n",
    "        binary = binary[::-1]\n",
    "        #\n",
    "        for i in range(7, length, 7):         # Desde el 7mo bit del binario hasta el final, cada 7 bits.\n",
    "            higherBits = binary[i:i + 7]\n",
    "            higherBits = higherBits[::-1]\n",
    "            if len(higherBits) < 8:\n",
    "                higherBits = '0' * (8 - len(higherBits)) + higherBits\n",
    "            # \n",
    "            finalBinary = higherBits + finalBinary\n",
    "        #\n",
    "        finalBinary += str(lowerBits)\n",
    "    return finalBinary"
   ]
  },
  {
   "cell_type": "markdown",
   "id": "4741ed4c-71ee-4ccb-831b-d4fb767fdb86",
   "metadata": {},
   "source": [
    "---\n",
    "### MAIN\n",
    "---\n",
    "#### Pruebas simples con Elias Gamma"
   ]
  },
  {
   "cell_type": "code",
   "execution_count": 30,
   "id": "fcde5587-7461-48bc-a504-feeb50c8e47c",
   "metadata": {},
   "outputs": [
    {
     "data": {
      "text/plain": [
       "'000010001'"
      ]
     },
     "execution_count": 30,
     "metadata": {},
     "output_type": "execute_result"
    }
   ],
   "source": [
    "n = 17\n",
    "\n",
    "cn = Elias_Gamma_Coding(n)\n",
    "cn"
   ]
  },
  {
   "cell_type": "code",
   "execution_count": 31,
   "id": "79a0894f-05bb-4d05-88fc-7f8f5074e7cf",
   "metadata": {},
   "outputs": [
    {
     "data": {
      "text/plain": [
       "17"
      ]
     },
     "execution_count": 31,
     "metadata": {},
     "output_type": "execute_result"
    }
   ],
   "source": [
    "dn = Elias_Gamma_Decoding(cn)\n",
    "dn"
   ]
  },
  {
   "cell_type": "markdown",
   "id": "e105d22e-928a-476a-b521-0b0f672376a6",
   "metadata": {},
   "source": [
    "**Tarea 1: Probar desde 1 hasta n tal que Elias_Gamma_Coding(n) requiera más bits que Binary(n)**"
   ]
  },
  {
   "cell_type": "markdown",
   "id": "8f310089-8253-4e71-9875-0b257307b4e9",
   "metadata": {},
   "source": [
    "### Pruebas simples con VByte"
   ]
  },
  {
   "cell_type": "code",
   "execution_count": 32,
   "id": "b264ba24-c7a2-4b77-9eb3-e1f41b353a6b",
   "metadata": {},
   "outputs": [
    {
     "data": {
      "text/plain": [
       "'10010001'"
      ]
     },
     "execution_count": 32,
     "metadata": {},
     "output_type": "execute_result"
    }
   ],
   "source": [
    "cn = Variable_Byte_Coding(n)\n",
    "cn"
   ]
  },
  {
   "cell_type": "code",
   "execution_count": 33,
   "id": "43ac50ce-0044-4f75-a8af-67d2ca46f05b",
   "metadata": {},
   "outputs": [
    {
     "data": {
      "text/plain": [
       "'11111111'"
      ]
     },
     "execution_count": 33,
     "metadata": {},
     "output_type": "execute_result"
    }
   ],
   "source": [
    "cn = Variable_Byte_Coding(127)\n",
    "cn"
   ]
  },
  {
   "cell_type": "code",
   "execution_count": 34,
   "id": "46c5f9c5-28f9-480b-94e5-8ff338c95bdf",
   "metadata": {},
   "outputs": [
    {
     "data": {
      "text/plain": [
       "'0000000110000000'"
      ]
     },
     "execution_count": 34,
     "metadata": {},
     "output_type": "execute_result"
    }
   ],
   "source": [
    "cn = Variable_Byte_Coding(128)\n",
    "cn"
   ]
  },
  {
   "cell_type": "code",
   "execution_count": 35,
   "id": "410820bf-a9d4-4963-81ef-38202df723a4",
   "metadata": {},
   "outputs": [],
   "source": [
    "#Tarea 1#"
   ]
  },
  {
   "cell_type": "code",
   "execution_count": 36,
   "id": "79ee37ea-955a-4696-9cbc-996c3b8caf7c",
   "metadata": {},
   "outputs": [
    {
     "name": "stdout",
     "output_type": "stream",
     "text": [
      "Valores de n donde Elias_Gamma_Coding(n) requiere más bits que Binary(n):\n",
      "[1, 2, 3, 4, 5, 6, 7, 8, 9, 10, 11, 12, 13, 14, 15, 16, 17, 18, 19, 20, 21, 22, 23, 24, 25, 26, 27, 28, 29, 30, 31, 32, 33, 34, 35, 36, 37, 38, 39, 40, 41, 42, 43, 44, 45, 46, 47, 48, 49, 50, 51, 52, 53, 54, 55, 56, 57, 58, 59, 60, 61, 62, 63, 64, 65, 66, 67, 68, 69, 70, 71, 72, 73, 74, 75, 76, 77, 78, 79, 80, 81, 82, 83, 84, 85, 86, 87, 88, 89, 90, 91, 92, 93, 94, 95, 96, 97, 98, 99, 100, 101, 102, 103, 104, 105, 106, 107, 108, 109, 110, 111, 112, 113, 114, 115, 116, 117, 118, 119, 120, 121, 122, 123, 124, 125, 126, 127, 128, 129, 130, 131, 132, 133, 134, 135, 136, 137, 138, 139, 140, 141, 142, 143, 144, 145, 146, 147, 148, 149, 150, 151, 152, 153, 154, 155, 156, 157, 158, 159, 160, 161, 162, 163, 164, 165, 166, 167, 168, 169, 170, 171, 172, 173, 174, 175, 176, 177, 178, 179, 180, 181, 182, 183, 184, 185, 186, 187, 188, 189, 190, 191, 192, 193, 194, 195, 196, 197, 198, 199, 200, 201, 202, 203, 204, 205, 206, 207, 208, 209, 210, 211, 212, 213, 214, 215, 216, 217, 218, 219, 220, 221, 222, 223, 224, 225, 226, 227, 228, 229, 230, 231, 232, 233, 234, 235, 236, 237, 238, 239, 240, 241, 242, 243, 244, 245, 246, 247, 248, 249, 250, 251, 252, 253, 254, 255, 256, 257, 258, 259, 260, 261, 262, 263, 264, 265, 266, 267, 268, 269, 270, 271, 272, 273, 274, 275, 276, 277, 278, 279, 280, 281, 282, 283, 284, 285, 286, 287, 288, 289, 290, 291, 292, 293, 294, 295, 296, 297, 298, 299, 300, 301, 302, 303, 304, 305, 306, 307, 308, 309, 310, 311, 312, 313, 314, 315, 316, 317, 318, 319, 320, 321, 322, 323, 324, 325, 326, 327, 328, 329, 330, 331, 332, 333, 334, 335, 336, 337, 338, 339, 340, 341, 342, 343, 344, 345, 346, 347, 348, 349, 350, 351, 352, 353, 354, 355, 356, 357, 358, 359, 360, 361, 362, 363, 364, 365, 366, 367, 368, 369, 370, 371, 372, 373, 374, 375, 376, 377, 378, 379, 380, 381, 382, 383, 384, 385, 386, 387, 388, 389, 390, 391, 392, 393, 394, 395, 396, 397, 398, 399, 400, 401, 402, 403, 404, 405, 406, 407, 408, 409, 410, 411, 412, 413, 414, 415, 416, 417, 418, 419, 420, 421, 422, 423, 424, 425, 426, 427, 428, 429, 430, 431, 432, 433, 434, 435, 436, 437, 438, 439, 440, 441, 442, 443, 444, 445, 446, 447, 448, 449, 450, 451, 452, 453, 454, 455, 456, 457, 458, 459, 460, 461, 462, 463, 464, 465, 466, 467, 468, 469, 470, 471, 472, 473, 474, 475, 476, 477, 478, 479, 480, 481, 482, 483, 484, 485, 486, 487, 488, 489, 490, 491, 492, 493, 494, 495, 496, 497, 498, 499, 500, 501, 502, 503, 504, 505, 506, 507, 508, 509, 510, 511, 512, 513, 514, 515, 516, 517, 518, 519, 520, 521, 522, 523, 524, 525, 526, 527, 528, 529, 530, 531, 532, 533, 534, 535, 536, 537, 538, 539, 540, 541, 542, 543, 544, 545, 546, 547, 548, 549, 550, 551, 552, 553, 554, 555, 556, 557, 558, 559, 560, 561, 562, 563, 564, 565, 566, 567, 568, 569, 570, 571, 572, 573, 574, 575, 576, 577, 578, 579, 580, 581, 582, 583, 584, 585, 586, 587, 588, 589, 590, 591, 592, 593, 594, 595, 596, 597, 598, 599, 600, 601, 602, 603, 604, 605, 606, 607, 608, 609, 610, 611, 612, 613, 614, 615, 616, 617, 618, 619, 620, 621, 622, 623, 624, 625, 626, 627, 628, 629, 630, 631, 632, 633, 634, 635, 636, 637, 638, 639, 640, 641, 642, 643, 644, 645, 646, 647, 648, 649, 650, 651, 652, 653, 654, 655, 656, 657, 658, 659, 660, 661, 662, 663, 664, 665, 666, 667, 668, 669, 670, 671, 672, 673, 674, 675, 676, 677, 678, 679, 680, 681, 682, 683, 684, 685, 686, 687, 688, 689, 690, 691, 692, 693, 694, 695, 696, 697, 698, 699, 700, 701, 702, 703, 704, 705, 706, 707, 708, 709, 710, 711, 712, 713, 714, 715, 716, 717, 718, 719, 720, 721, 722, 723, 724, 725, 726, 727, 728, 729, 730, 731, 732, 733, 734, 735, 736, 737, 738, 739, 740, 741, 742, 743, 744, 745, 746, 747, 748, 749, 750, 751, 752, 753, 754, 755, 756, 757, 758, 759, 760, 761, 762, 763, 764, 765, 766, 767, 768, 769, 770, 771, 772, 773, 774, 775, 776, 777, 778, 779, 780, 781, 782, 783, 784, 785, 786, 787, 788, 789, 790, 791, 792, 793, 794, 795, 796, 797, 798, 799, 800, 801, 802, 803, 804, 805, 806, 807, 808, 809, 810, 811, 812, 813, 814, 815, 816, 817, 818, 819, 820, 821, 822, 823, 824, 825, 826, 827, 828, 829, 830, 831, 832, 833, 834, 835, 836, 837, 838, 839, 840, 841, 842, 843, 844, 845, 846, 847, 848, 849, 850, 851, 852, 853, 854, 855, 856, 857, 858, 859, 860, 861, 862, 863, 864, 865, 866, 867, 868, 869, 870, 871, 872, 873, 874, 875, 876, 877, 878, 879, 880, 881, 882, 883, 884, 885, 886, 887, 888, 889, 890, 891, 892, 893, 894, 895, 896, 897, 898, 899, 900, 901, 902, 903, 904, 905, 906, 907, 908, 909, 910, 911, 912, 913, 914, 915, 916, 917, 918, 919, 920, 921, 922, 923, 924, 925, 926, 927, 928, 929, 930, 931, 932, 933, 934, 935, 936, 937, 938, 939, 940, 941, 942, 943, 944, 945, 946, 947, 948, 949, 950, 951, 952, 953, 954, 955, 956, 957, 958, 959, 960, 961, 962, 963, 964, 965, 966, 967, 968, 969, 970, 971, 972, 973, 974, 975, 976, 977, 978, 979, 980, 981, 982, 983, 984, 985, 986, 987, 988, 989, 990, 991, 992, 993, 994, 995, 996, 997, 998, 999, 1000]\n"
     ]
    }
   ],
   "source": [
    "# Fun para verificar si Elias_Gamma_Coding(n) requiere más bits que Binary(n)\n",
    "def compare_codings(n):\n",
    "    elias_gamma = Elias_Gamma_Coding(n)\n",
    "    binary_n = Binary(n)\n",
    "    return len(elias_gamma) > len(binary_n)\n",
    "\n",
    "n_max = 1000\n",
    "\n",
    "# Inicializo una lista para almacenar los valores de n que cumplen\n",
    "n_values = []\n",
    "\n",
    "# Realizo la prueba desde 1 hasta 1000\n",
    "for n in range(1, n_max + 1):\n",
    "    if compare_codings(n):\n",
    "        n_values.append(n)\n",
    "\n",
    "# Muestro los valores de n que cumplen la condición\n",
    "print(\"Valores de n donde Elias_Gamma_Coding(n) requiere más bits que Binary(n):\")\n",
    "print(n_values)"
   ]
  },
  {
   "cell_type": "code",
   "execution_count": null,
   "id": "d2d186ef-689c-4031-b130-dab90f48a040",
   "metadata": {},
   "outputs": [],
   "source": []
  },
  {
   "cell_type": "code",
   "execution_count": 37,
   "id": "9b743d93-2e66-4176-bde7-39fa62ffa705",
   "metadata": {},
   "outputs": [],
   "source": [
    "#Conclucion\n",
    "#La codificación de Elias Gamma es especialmente eficiente para números chicos, ya que utiliza menos bits que la codificación \n",
    "#binaria. Esto significa que para números chicos, la representación ocupará menos espacio en memoria o en almacenamiento."
   ]
  },
  {
   "cell_type": "markdown",
   "id": "65313a9e-6fc5-48c9-a4fc-697679675f35",
   "metadata": {},
   "source": [
    "**Tarea 2: Calcular en qué valor ocurre el siguiente salto en bytes (de 2 a 3)**"
   ]
  },
  {
   "cell_type": "markdown",
   "id": "16ce2b26-fa54-4b03-a7d0-49e2c56799bf",
   "metadata": {},
   "source": [
    "### Ejemplo con Bit Packing"
   ]
  },
  {
   "cell_type": "code",
   "execution_count": 38,
   "id": "0fffb3b2-b570-4ece-880b-dd80a692872a",
   "metadata": {},
   "outputs": [],
   "source": [
    "# Bit packing, cálculo de b (recordar que la lista no contiene los docIDs originales sino DGaps de éstos)\n",
    "bits_header = 4\n",
    "lista = [76, 53, 254, 55, 54, 48, 60, 212, 128, 37, 1, 1, 1, 2, 3, 1499, 220, 149, 121, 232]"
   ]
  },
  {
   "cell_type": "code",
   "execution_count": 39,
   "id": "c7cc0797-bbec-49fc-ae19-93f01cd82b01",
   "metadata": {},
   "outputs": [
    {
     "name": "stdout",
     "output_type": "stream",
     "text": [
      "Bit packing de la lista completa requiere 1719 bits\n"
     ]
    }
   ],
   "source": [
    "# Lista completa\n",
    "m = max(lista)\n",
    "b = math.ceil(math.log2(m))\n",
    "bits_totales_lista = m + b *len(lista)\n",
    "print (f'Bit packing de la lista completa requiere {bits_totales_lista} bits')"
   ]
  },
  {
   "cell_type": "code",
   "execution_count": 40,
   "id": "c564879a-d1ea-462b-b5be-070d11904088",
   "metadata": {},
   "outputs": [],
   "source": [
    "# Tarea 2#"
   ]
  },
  {
   "cell_type": "code",
   "execution_count": 41,
   "id": "eae32ca4-0202-4f41-8c30-707f16e55c7c",
   "metadata": {},
   "outputs": [
    {
     "name": "stdout",
     "output_type": "stream",
     "text": [
      "Bit packing de la lista completa requiere 220 bits\n",
      "El siguiente salto de bytes (de 2 a 3) ocurre en el valor en el índice 19: 232\n"
     ]
    }
   ],
   "source": [
    "import math\n",
    "\n",
    "bits_header = 4\n",
    "bits_por_numero = 7  # 7 bits para el número y 1 bit para indicar continuación\n",
    "\n",
    "lista = [76, 53, 254, 55, 54, 48, 60, 212, 128, 37, 1, 1, 1, 2, 3, 1499, 220, 149, 121, 232]\n",
    "\n",
    "# Encuentra el valor máximo en la lista\n",
    "m = max(lista)\n",
    "\n",
    "# Calcula la cantidad mínima de bits necesarios para representar el valor máximo\n",
    "b = math.ceil(math.log2(m))\n",
    "\n",
    "# Calcula el número total de bits requeridos para representar la lista completa\n",
    "bits_totales_lista = (bits_header + bits_por_numero) * len(lista)\n",
    "\n",
    "# Encuentra el índice en el que ocurre el cambio de bits\n",
    "indice_salto = next((i for i, valor in enumerate(lista) if valor >= 2 ** (bits_header + bits_por_numero)), len(lista) - 1)\n",
    "\n",
    "print(f'Bit packing de la lista completa requiere {bits_totales_lista} bits')\n",
    "if indice_salto < len(lista):\n",
    "    print(f'El siguiente salto de bytes (de 2 a 3) ocurre en el valor en el índice {indice_salto}: {lista[indice_salto]}')\n",
    "else:\n",
    "    print('No hay más saltos en la lista.')\n",
    "\n"
   ]
  },
  {
   "cell_type": "markdown",
   "id": "f611069d-f24f-4b3d-96e3-d3c19fac4747",
   "metadata": {},
   "source": [
    "**Tarea 3: Calcular la tasa de compresión para s = [3, 8]**"
   ]
  },
  {
   "cell_type": "markdown",
   "id": "91cccedb-9e51-4fb8-ac11-cc9e31d7236e",
   "metadata": {},
   "source": [
    "### Comprimir posting del corpus 'vaswani'"
   ]
  },
  {
   "cell_type": "code",
   "execution_count": 42,
   "id": "d214f1f6-9a66-409d-84a4-510f733a2e8f",
   "metadata": {},
   "outputs": [],
   "source": [
    "if not pt.started():\n",
    "    pt.init()"
   ]
  },
  {
   "cell_type": "code",
   "execution_count": 43,
   "id": "bab3c53b-fa12-4e69-8d9f-8f0cb8e990a1",
   "metadata": {},
   "outputs": [],
   "source": [
    "dataset = pt.datasets.get_dataset(\"vaswani\")"
   ]
  },
  {
   "cell_type": "code",
   "execution_count": 44,
   "id": "061f0b27-27f9-4763-8cb2-f8f4534449e1",
   "metadata": {},
   "outputs": [
    {
     "name": "stdout",
     "output_type": "stream",
     "text": [
      "{'docno': '1', 'text': 'compact memories have flexible capacities  a digital data storage\\nsystem with capacity up to bits and random and or sequential access\\nis described'}\n",
      "{'docno': '2', 'text': 'an electronic analogue computer for solving systems of linear equations\\nmathematical derivation of the operating principle and stability\\nconditions for a computer consisting of amplifiers'}\n",
      "{'docno': '3', 'text': 'electronic coordinate transformer  circuit details are given for\\nthe construction of an electronic calculating unit which enables\\nthe polar coordinates of a vector modulus and cosine or sine of the\\nargument to be derived from those of a rectangular system of axes'}\n",
      "{'docno': '4', 'text': 'the british computer society  report of a conference held in cambridge\\njune'}\n",
      "{'docno': '5', 'text': 'millimicrosecond digital computer logic  a system of fast pulse\\nlogic is described which combines the efficiency of transformer coupled\\nstages with digit delay tolerances approaching that of dc coupled\\nsystems  logical circuits for or and inverter and reclock are shown\\ntogether with a driver which permits a fan out factor of  transistor\\ncircuits are used through'}\n"
     ]
    }
   ],
   "source": [
    "for i, d in enumerate(dataset.get_corpus_iter()):\n",
    "    print (d)\n",
    "    if (i > 3):\n",
    "        break"
   ]
  },
  {
   "cell_type": "code",
   "execution_count": 45,
   "id": "bf761e36-44b8-4091-8b59-350577fed6aa",
   "metadata": {},
   "outputs": [],
   "source": [
    "index_path = \"./vaswani_index\"\n",
    "if os.path.exists(index_path):\n",
    "    index = pt.IndexFactory.of(index_path+\"/data.properties\")\n",
    "else:\n",
    "    indexer  = pt.TRECCollectionIndexer(index_path, blocks=True)\n",
    "    indexref = indexer.index(dataset.get_corpus())\n",
    "    index = pt.IndexFactory.of(indexref)"
   ]
  },
  {
   "cell_type": "code",
   "execution_count": 46,
   "id": "628d6f65-3386-43f3-af4e-6e989d050eb4",
   "metadata": {},
   "outputs": [
    {
     "name": "stdout",
     "output_type": "stream",
     "text": [
      "Number of documents: 11429\n",
      "Number of terms: 7756\n",
      "Number of postings: 224573\n",
      "Number of fields: 0\n",
      "Number of tokens: 271581\n",
      "Field names: []\n",
      "Positions:   true\n",
      "\n"
     ]
    }
   ],
   "source": [
    "print(index.getCollectionStatistics().toString())"
   ]
  },
  {
   "cell_type": "code",
   "execution_count": 47,
   "id": "a1fde28e-1767-4c16-908e-37446d75a34c",
   "metadata": {},
   "outputs": [],
   "source": [
    "lex = index.getLexicon()"
   ]
  },
  {
   "cell_type": "code",
   "execution_count": 48,
   "id": "44267000-4e31-4a70-8d4f-8cc36cb60962",
   "metadata": {},
   "outputs": [
    {
     "name": "stdout",
     "output_type": "stream",
     "text": [
      "[948, 950, 2863, 3164, 3462, 3496, 4898, 4953, 5071, 5538, 5667, 5815, 6711, 6829, 6862, 6942, 6991, 7436, 7870, 8557, 8959, 9236, 9778, 9974, 10159, 10857]\n",
      "[1, 1, 1, 1, 1, 1, 1, 1, 1, 1, 1, 1, 2, 1, 1, 1, 1, 2, 2, 1, 2, 1, 1, 1, 1, 2]\n"
     ]
    }
   ],
   "source": [
    "# Posting list del término ´x´\n",
    "meta = index.getMetaIndex()\n",
    "inv  = index.getInvertedIndex()\n",
    "#\n",
    "le = lex.getLexiconEntry(\"run\")\n",
    "\n",
    "\n",
    "list_docs  = []\n",
    "list_freqs = []\n",
    "# the lexicon entry is also our pointer to access the inverted index posting list\n",
    "for posting in inv.getPostings(le):\n",
    "    docno = meta.getItem(\"docno\", posting.getId())\n",
    "    #print(\"(%s, %d), \" % (docno, posting.getFrequency()), end = '')\n",
    "    list_docs.append(int(docno))\n",
    "    list_freqs.append(int(posting.getFrequency()))\n",
    "#\n",
    "print (list_docs)\n",
    "print (list_freqs) "
   ]
  },
  {
   "cell_type": "code",
   "execution_count": 49,
   "id": "cdf48aa9-eab2-4b5e-97e3-79cacfd6e974",
   "metadata": {},
   "outputs": [],
   "source": [
    "def compute_dgaps(docids):\n",
    "    refval = docids[0]\n",
    "    dgaps  = [refval]\n",
    "    for cur in range(1, len(docids)):\n",
    "        this_gap = docids[cur] - refval\n",
    "        #print (cur, refval, docids[cur], this_gap)\n",
    "        refval   = docids[cur]\n",
    "        dgaps.append(this_gap)\n",
    "    return dgaps"
   ]
  },
  {
   "cell_type": "code",
   "execution_count": 50,
   "id": "60859b03-a966-4a53-a7dd-c0ab198ec2bc",
   "metadata": {},
   "outputs": [
    {
     "data": {
      "text/plain": [
       "[948,\n",
       " 2,\n",
       " 1913,\n",
       " 301,\n",
       " 298,\n",
       " 34,\n",
       " 1402,\n",
       " 55,\n",
       " 118,\n",
       " 467,\n",
       " 129,\n",
       " 148,\n",
       " 896,\n",
       " 118,\n",
       " 33,\n",
       " 80,\n",
       " 49,\n",
       " 445,\n",
       " 434,\n",
       " 687,\n",
       " 402,\n",
       " 277,\n",
       " 542,\n",
       " 196,\n",
       " 185,\n",
       " 698]"
      ]
     },
     "execution_count": 50,
     "metadata": {},
     "output_type": "execute_result"
    }
   ],
   "source": [
    "compute_dgaps(list_docs)"
   ]
  },
  {
   "cell_type": "code",
   "execution_count": 51,
   "id": "527f4779-c547-4b11-93c7-57158aa36a62",
   "metadata": {},
   "outputs": [],
   "source": [
    "# Librería de codecs de compresión\n",
    "from pyfastpfor import *"
   ]
  },
  {
   "cell_type": "code",
   "execution_count": 52,
   "id": "76955f95-098c-4120-9c6e-eb9ae2026e45",
   "metadata": {},
   "outputs": [
    {
     "data": {
      "text/plain": [
       "['BP32',\n",
       " 'copy',\n",
       " 'fastbinarypacking16',\n",
       " 'fastbinarypacking32',\n",
       " 'fastbinarypacking8',\n",
       " 'fastpfor128',\n",
       " 'fastpfor256',\n",
       " 'maskedvbyte',\n",
       " 'newpfor',\n",
       " 'optpfor',\n",
       " 'pfor',\n",
       " 'pfor2008',\n",
       " 'simdbinarypacking',\n",
       " 'simdfastpfor128',\n",
       " 'simdfastpfor256',\n",
       " 'simdgroupsimple',\n",
       " 'simdgroupsimple_ringbuf',\n",
       " 'simdnewpfor',\n",
       " 'simdoptpfor',\n",
       " 'simdpfor',\n",
       " 'simdsimplepfor',\n",
       " 'simple16',\n",
       " 'simple8b',\n",
       " 'simple8b_rle',\n",
       " 'simple9',\n",
       " 'simple9_rle',\n",
       " 'simplepfor',\n",
       " 'streamvbyte',\n",
       " 'varint',\n",
       " 'varintg8iu',\n",
       " 'varintgb',\n",
       " 'vbyte',\n",
       " 'vsencoding']"
      ]
     },
     "execution_count": 52,
     "metadata": {},
     "output_type": "execute_result"
    }
   ],
   "source": [
    "getCodecList()"
   ]
  },
  {
   "cell_type": "code",
   "execution_count": 53,
   "id": "945655ef-869e-413d-84be-0f55fe5a889e",
   "metadata": {},
   "outputs": [],
   "source": [
    "def comprimir_lista(lista_in, mycodec):\n",
    "    # Comprimir ' lista_in' \n",
    "    lista_size = len(lista_in)\n",
    "\n",
    "    # Inicializar estructuras de datos. Se reserva memoria adicional por el \n",
    "    # caso en que los datos comprimidos ocupen más que los no comprimidos.\n",
    "    # Para la compresión\n",
    "    lista_comp   = np.zeros(lista_size + 1024, dtype = np.uint32, order = 'C')\n",
    "    # Para la descompresión\n",
    "    lista_decomp = np.zeros(lista_size, dtype = np.uint32, order = 'C')\n",
    "    # Inicializar un codec (usando su nombre)\n",
    "    codec = getCodec(mycodec)\n",
    "    \n",
    "    #\n",
    "    start = time.time()\n",
    "    # Comprimir\n",
    "    lista_comp_size = codec.encodeArray(lista_in, lista_size, lista_comp, len(lista_decomp))\n",
    "    compress_time = time.time() - start\n",
    "    #\n",
    "    start = time.time()\n",
    "    # Descomprimir y chqequear (no) pérdida.\n",
    "    assert(lista_size == codec.decodeArray(lista_comp, lista_comp_size, lista_decomp, lista_size))\n",
    "    decompress_time = time.time() - start\n",
    "    \n",
    "    assert(np.all(lista_decomp == lista_in))\n",
    "    \n",
    "    # Calcular tasa de compresión\n",
    "    tasa = float(lista_size) / lista_comp_size\n",
    "    #\n",
    "    \n",
    "    return tasa, compress_time*1000, decompress_time*1000"
   ]
  },
  {
   "cell_type": "code",
   "execution_count": 54,
   "id": "7a7a9e4d-fbc7-46ac-ab97-426c894c4ec3",
   "metadata": {},
   "outputs": [],
   "source": [
    "mycodec = 'vbyte'"
   ]
  },
  {
   "cell_type": "code",
   "execution_count": 55,
   "id": "8fc31402-8c83-4ac2-8e3a-2e9cccc5ac7d",
   "metadata": {},
   "outputs": [
    {
     "name": "stdout",
     "output_type": "stream",
     "text": [
      "Long. lista: 26, codec *vbyte*, tasa de compresión 2.0\n"
     ]
    }
   ],
   "source": [
    "list_in = list_docs\n",
    "tasa, ct, dt = comprimir_lista(list_in, mycodec)\n",
    "print(f'Long. lista: {len(list_docs)}, codec *{mycodec}*, tasa de compresión {round(tasa, 2)}')"
   ]
  },
  {
   "cell_type": "code",
   "execution_count": 56,
   "id": "5fff776b-33b2-4f4b-b86f-1f39482e26b8",
   "metadata": {},
   "outputs": [
    {
     "name": "stdout",
     "output_type": "stream",
     "text": [
      "Long. lista: 26, codec *vbyte*, tasa de compresión 2.36\n"
     ]
    }
   ],
   "source": [
    "list_in = compute_dgaps(list_docs)\n",
    "tasa, ct, dt = comprimir_lista(list_in, mycodec)\n",
    "print(f'Long. lista: {len(list_docs)}, codec *{mycodec}*, tasa de compresión {round(tasa, 2)}')"
   ]
  },
  {
   "cell_type": "code",
   "execution_count": 57,
   "id": "80b86d5d-5d22-4d5a-b966-cb0ed50f8df0",
   "metadata": {},
   "outputs": [],
   "source": [
    "# Tarea 3 #"
   ]
  },
  {
   "cell_type": "code",
   "execution_count": 58,
   "id": "1085614d-e3f4-4927-83d1-2088827c3424",
   "metadata": {},
   "outputs": [
    {
     "name": "stdout",
     "output_type": "stream",
     "text": [
      "Tasa de compresión para s = 3: 1.26\n",
      "Tasa de compresión para s = 4: 1.17\n",
      "Tasa de compresión para s = 5: 1.37\n",
      "Tasa de compresión para s = 6: 0.97\n",
      "Tasa de compresión para s = 7: 1.09\n",
      "Tasa de compresión para s = 8: 0.96\n"
     ]
    }
   ],
   "source": [
    "def calculate_compression_rate(s):\n",
    "    bits_header = 4\n",
    "    lista = [76, 53, 254, 55, 54, 48, 60, 212, 128, 37, 1, 1, 1, 2, 3, 1499, 220, 149, 121, 232]\n",
    "    bits_totales_bloques = 0\n",
    "\n",
    "    for i in range(0, len(lista), s):\n",
    "        bloque = lista[i:i + s]\n",
    "        m = max(bloque)\n",
    "        b = math.ceil(math.log2(m))\n",
    "        bits_bloque = bits_header + b * s\n",
    "        bits_totales_bloques += bits_bloque\n",
    "\n",
    "    tasa = bits_totales_lista / bits_totales_bloques\n",
    "\n",
    "    return tasa\n",
    "\n",
    "for s in range(3, 9):  # Probamos s desde 3 hasta 8\n",
    "    tasa = calculate_compression_rate(s)\n",
    "    print(f'Tasa de compresión para s = {s}: {round(tasa, 2)}')\n"
   ]
  },
  {
   "cell_type": "markdown",
   "id": "3cce92ec-b9a4-421a-9f16-9209356e7d2d",
   "metadata": {},
   "source": [
    "**Tarea 4: Probar con listas de otros términos (más largas). Por ejemplo, 'electron'**"
   ]
  },
  {
   "cell_type": "markdown",
   "id": "b54582f1-e6a2-41ce-9e70-2a7509b171b5",
   "metadata": {},
   "source": [
    "### Tradeoff tiempo/espacio"
   ]
  },
  {
   "cell_type": "code",
   "execution_count": 67,
   "id": "f5795436-89c4-4f7e-ac88-bf6835be8a93",
   "metadata": {},
   "outputs": [],
   "source": [
    "import random\n",
    "\n",
    "n = 1000000\n",
    "randomlist = random.sample(range(1, 100000000), n)\n",
    "test_list = compute_dgaps(sorted(randomlist))"
   ]
  },
  {
   "cell_type": "code",
   "execution_count": 68,
   "id": "625be587-56a1-4d92-8a2e-788f8d6571fc",
   "metadata": {},
   "outputs": [],
   "source": [
    "test_codecs = ['pfor', 'simdbinarypacking', 'vbyte', 'simdpfor']"
   ]
  },
  {
   "cell_type": "code",
   "execution_count": 69,
   "id": "57d9513f-f0aa-42c9-9c9e-8c4197519236",
   "metadata": {},
   "outputs": [],
   "source": [
    "test_tasa  = []\n",
    "test_ctime = []  # Tiempo de compresión\n",
    "test_dtime = []  # Tiempo de descompresión\n",
    "\n",
    "for mycodec in test_codecs:\n",
    "    tasa, ct, dt = comprimir_lista(test_list, mycodec)\n",
    "    test_tasa.append(tasa)\n",
    "    test_ctime.append(ct)\n",
    "    test_dtime.append(dt)"
   ]
  },
  {
   "cell_type": "code",
   "execution_count": 70,
   "id": "a542b4f1-8331-48d8-a55c-3148b53f3d99",
   "metadata": {},
   "outputs": [
    {
     "data": {
      "image/png": "[encoded data removed]",
      "text/plain": [
       "<Figure size 640x480 with 1 Axes>"
      ]
     },
     "metadata": {},
     "output_type": "display_data"
    }
   ],
   "source": [
    "markers = ['o--', '^--','*--','x--']\n",
    "for i, codec in enumerate(test_codecs):\n",
    "    plt.plot(test_tasa[i], test_dtime[i], markers[i], markersize=10, label=test_codecs[i])\n",
    "#\n",
    "plt.grid()\n",
    "plt.xlabel(\"Tasa de compresión\")\n",
    "plt.ylabel(\"Tiempo de descompresión\")\n",
    "#\n",
    "locs, labels = plt.xticks(test_tasa)\n",
    "plt.legend(loc=(1.04, 0.75))\n",
    "plt.show()"
   ]
  },
  {
   "cell_type": "code",
   "execution_count": 71,
   "id": "9b42b72c-a08b-49f6-a063-e8e89f872b9c",
   "metadata": {},
   "outputs": [],
   "source": [
    "# Tarea 4 #"
   ]
  },
  {
   "cell_type": "code",
   "execution_count": 20,
   "id": "e6d9b3a0-a21a-43e8-8cea-4a3d76f18347",
   "metadata": {},
   "outputs": [
    {
     "ename": "NameError",
     "evalue": "name 'lex' is not defined",
     "output_type": "error",
     "traceback": [
      "\u001b[0;31m---------------------------------------------------------------------------\u001b[0m",
      "\u001b[0;31mNameError\u001b[0m                                 Traceback (most recent call last)",
      "Cell \u001b[0;32mIn[20], line 2\u001b[0m\n\u001b[1;32m      1\u001b[0m \u001b[38;5;66;03m# Obtener la entrada del léxico para el término \"electron\"\u001b[39;00m\n\u001b[0;32m----> 2\u001b[0m le \u001b[38;5;241m=\u001b[39m \u001b[43mlex\u001b[49m\u001b[38;5;241m.\u001b[39mgetLexiconEntry(\u001b[38;5;124m\"\u001b[39m\u001b[38;5;124melectron\u001b[39m\u001b[38;5;124m\"\u001b[39m)\n\u001b[1;32m      4\u001b[0m \u001b[38;5;66;03m# Inicializar una lista para almacenar los números de documentos que contienen el término \"electron\"\u001b[39;00m\n\u001b[1;32m      5\u001b[0m list_docs \u001b[38;5;241m=\u001b[39m []\n",
      "\u001b[0;31mNameError\u001b[0m: name 'lex' is not defined"
     ]
    }
   ],
   "source": [
    "# Obtener la entrada del léxico para el término \"electron\"\n",
    "le = lex.getLexiconEntry(\"electron\")\n",
    "\n",
    "# Inicializar una lista para almacenar los números de documentos que contienen el término \"electron\"\n",
    "list_docs = []\n",
    "\n",
    "# Recorrer las entradas del índice invertido para el término \"electron\"\n",
    "for posting in inv.getPostings(le):\n",
    "     docno = meta.getItem(\"docno\", posting.getId())\n",
    "     list_docs.append(int(docno))\n",
    "\n",
    "print(list_docs)\n"
   ]
  },
  {
   "cell_type": "code",
   "execution_count": null,
   "id": "c018361a-a8d0-4464-8f5e-707df0ef9032",
   "metadata": {},
   "outputs": [],
   "source": []
  }
 ],
 "metadata": {
  "kernelspec": {
   "display_name": "Python 3 (ipykernel)",
   "language": "python",
   "name": "python3"
  },
  "language_info": {
   "codemirror_mode": {
    "name": "ipython",
    "version": 3
   },
   "file_extension": ".py",
   "mimetype": "text/x-python",
   "name": "python",
   "nbconvert_exporter": "python",
   "pygments_lexer": "ipython3",
   "version": "3.11.5"
  }
 },
 "nbformat": 4,
 "nbformat_minor": 5
}
